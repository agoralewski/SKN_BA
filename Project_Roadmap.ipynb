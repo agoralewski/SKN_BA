{
 "cells": [
  {
   "cell_type": "markdown",
   "metadata": {},
   "source": [
    "<font color = grey> SKN Business Analytics 2018 </font>"
   ]
  },
  {
   "cell_type": "markdown",
   "metadata": {},
   "source": [
    "# Etapy projektu tworzenia Modelu Predykcyjnego"
   ]
  },
  {
   "cell_type": "markdown",
   "metadata": {},
   "source": [
    "## Business Analysis \n",
    "1. Client needs\n",
    "2. Added value of project \n",
    "3. Cost-benefits analysis\n",
    "4. Concept of project, main goals\n",
    "\n",
    "\n",
    "## Data Modelling:\n",
    "1. Collect Data Sources\n",
    "2. Concept of Data Modelling (it may be row data, synthetic KPI-s, behavioral patterns in time or something else)\n",
    "3. Creating Datasets\n",
    "\t\n",
    " \n",
    "## Data Preprocessing:\n",
    "\"Tłumaczenie danych na język maszynowy\"\n",
    "\n",
    "1. Cleaning - czyszczenie (albo wymiana na średnie/mediany) od wszystkiego, co może mieć niekorzystny wpływ na jakość predykcji modelu (null values, pomyłki, wartości skrajnie)\n",
    "2. Dictionarising - konwertacja zmiennych \"kategoryzacyjnych\" na wartości liczbowe (np. [jabłka, gruszki, wiszeńki, mango] > [0.2, 0.4, 0.6, 0.8])\n",
    "3. Normalization - przekształcenie danych zmiennych w celu osiągniecia rozkładu normalnego w ramach zmiennej\n",
    "4. Scaling - skałowania całej macierzy zmiennych objaśniających do jedynego zakresu zmiennych (np. zakresu od -1 do 1)\n",
    "\n",
    "## Feature Selection\n",
    "Wybór najbardziej istotnych zmiennych objaśniających na podstawie analizy współkorelacji, wykorzystania rankingowania niektórych modeli uczenia maszynowego (np. ExtraTreeClassifier, LogisticRegressionClassifier)\n",
    "\n",
    "## Clustering\n",
    "<font color = grey>*optional, advanced level*</font>  \n",
    "Wykorzystanie algorytmów uczenia maszynowego w celu klasteryzacji najbardziej istotnych części danych w zmiennych objaśniających. Mówiąc inaczej - automatyczne tworzenie \"profili obiektów\".\n",
    "\n",
    "\n",
    "## Machine Learning\n",
    "\t\n",
    "### Model selection\n",
    "1. Dobór najbardziej odpowiednich modeli do zadania - uruchomienie na małych sample-ach dataset-u\n",
    "2. Scope study - tworzenie short listy modeli na podstawie podstawowych metryk (accuracy, precision, recall)\n",
    "3. Tuning modeli z short listy - ręczne wystawienie optymalnych/załecanych parametrów do modeli z short listy\n",
    "4. Gridding *(optional, advance level)* - automatyzowane poszukiwanie najlepszych parametrów dla wybranych modeli na małym sample danych (może być czasochłonne, wymagać dużo zasobów)\n",
    "\n",
    "## Reporting:\n",
    "1. Data output\n",
    "2. Visualization\n",
    "\t\n",
    "## Presentation:\t\n",
    "1. Data Story Telling"
   ]
  },
  {
   "cell_type": "code",
   "execution_count": null,
   "metadata": {},
   "outputs": [],
   "source": []
  },
  {
   "cell_type": "code",
   "execution_count": null,
   "metadata": {},
   "outputs": [],
   "source": []
  },
  {
   "cell_type": "code",
   "execution_count": null,
   "metadata": {},
   "outputs": [],
   "source": []
  }
 ],
 "metadata": {
  "kernelspec": {
   "display_name": "Python 3",
   "language": "python",
   "name": "python3"
  },
  "language_info": {
   "codemirror_mode": {
    "name": "ipython",
    "version": 3
   },
   "file_extension": ".py",
   "mimetype": "text/x-python",
   "name": "python",
   "nbconvert_exporter": "python",
   "pygments_lexer": "ipython3",
   "version": "3.6.4"
  }
 },
 "nbformat": 4,
 "nbformat_minor": 2
}
